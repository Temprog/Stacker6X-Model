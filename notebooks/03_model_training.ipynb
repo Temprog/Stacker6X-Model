{
  "nbformat": 4,
  "nbformat_minor": 0,
  "metadata": {
    "colab": {
      "provenance": []
    },
    "kernelspec": {
      "name": "python3",
      "display_name": "Python 3"
    },
    "language_info": {
      "name": "python"
    }
  },
  "cells": [
    {
      "cell_type": "markdown",
      "source": [
        "# Model Training\n"
      ],
      "metadata": {
        "id": "iZj9b--ZAG0w"
      }
    },
    {
      "cell_type": "markdown",
      "source": [
        "## Imports & Setup\n",
        "This notebook imports all necessary libraries and modules using `from utils.imports import *`, which centralizes all dependencies required for training. See `utils/imports.py` for full details.\n"
      ],
      "metadata": {
        "id": "UGL-36KW9UKl"
      }
    },
    {
      "cell_type": "code",
      "source": [
        "# Imports from utils/imports.py\n",
        "from utils.imports import (\n",
        "    pd, np, os,\n",
        "    train_test_split, SVC,\n",
        "    accuracy_score, confusion_matrix, ConfusionMatrixDisplay,\n",
        "    plt, sns\n",
        "    )"
      ],
      "metadata": {
        "id": "DnQgZGAEi4DD"
      },
      "execution_count": null,
      "outputs": []
    },
    {
      "cell_type": "markdown",
      "source": [
        "### Support Vector Machine (SVM)"
      ],
      "metadata": {
        "id": "_C6H1d9H_zOu"
      }
    },
    {
      "cell_type": "code",
      "source": [
        "# Train the SVM Classifier\n",
        "svm_model = SVC(kernel='linear', random_state=42)    # In stack ensemblling, probability=True has to be added to ensure compatibility with predict_proba as it requires it to be true instead of the default false. But because it takes so long to train with this probability set to true, it will be excluded in the ensemble proba.\n",
        "svm_model.fit(X_train, y_train)\n",
        "\n",
        "# Step 5: Make Predictions\n",
        "y_pred_svm = svm_model.predict(X_test)"
      ],
      "metadata": {
        "id": "Ct0bL1p8F8s2"
      },
      "execution_count": null,
      "outputs": []
    },
    {
      "cell_type": "markdown",
      "source": [
        "### Random Forest"
      ],
      "metadata": {
        "id": "UacN_7KyAEc3"
      }
    },
    {
      "cell_type": "code",
      "source": [
        "from sklearn.ensemble import RandomForestClassifier\n",
        "\n",
        "# Train Random Forest Classifier\n",
        "rf_model = RandomForestClassifier(random_state=42)\n",
        "rf_model.fit(X_train, y_train)\n",
        "\n",
        "# Make Predictions\n",
        "y_pred_rf = rf_model.predict(X_test)"
      ],
      "metadata": {
        "collapsed": true,
        "id": "MZOGHDJuqlUz"
      },
      "execution_count": null,
      "outputs": []
    },
    {
      "cell_type": "markdown",
      "source": [
        "### Logistic Regression"
      ],
      "metadata": {
        "id": "mH17N88zDV1T"
      }
    },
    {
      "cell_type": "code",
      "source": [
        "from sklearn.linear_model import LogisticRegression\n",
        "\n",
        "# Train Logistic Regression Classifier\n",
        "lr_model = LogisticRegression(random_state=42, max_iter=1000)\n",
        "lr_model.fit(X_train, y_train)\n",
        "\n",
        "# Make Predictions\n",
        "y_pred_lr = lr_model.predict(X_test)"
      ],
      "metadata": {
        "id": "9XcCnn2Kwlu1"
      },
      "execution_count": null,
      "outputs": []
    },
    {
      "cell_type": "markdown",
      "source": [
        "### Gradient Boosting"
      ],
      "metadata": {
        "id": "7FXHglzQeuFS"
      }
    },
    {
      "cell_type": "code",
      "source": [
        "from sklearn.ensemble import GradientBoostingClassifier\n",
        "\n",
        "# Train Gradient Boosting Classifier\n",
        "gb_model = GradientBoostingClassifier(random_state=42)\n",
        "gb_model.fit(X_train, y_train)\n",
        "\n",
        "# Make Predictions\n",
        "y_pred_gb = gb_model.predict(X_test)"
      ],
      "metadata": {
        "id": "iDrYb2B0ev-W"
      },
      "execution_count": null,
      "outputs": []
    },
    {
      "cell_type": "code",
      "source": [
        "# Gets the original indices of the test set from before the TF-IDF transformation\n",
        "# else the X-text and y_pred will have uneven no of rows\n",
        "test_indices = y_test.reset_index().index  # y_test still has the original indices\n",
        "\n",
        "# Ensures that predictions are added to the right rows in df3 using the original indices\n",
        "df3.loc[test_indices, 'y_pred_gb'] = y_pred_gb\n",
        "\n",
        "# Verify by printing the first few rows of df3\n",
        "print(df3.head())"
      ],
      "metadata": {
        "colab": {
          "base_uri": "https://localhost:8080/"
        },
        "id": "dqbfXXzdHImJ",
        "outputId": "7c561cf8-4051-4b23-ab7e-fac13206bd5e"
      },
      "execution_count": null,
      "outputs": [
        {
          "output_type": "stream",
          "name": "stdout",
          "text": [
            "                                             Payload  SQLInjection  XSS  \\\n",
            "0  ghjv9ef1y69cd6i59ihp6u3rsihkkx4z40nkyoqsdam1iq...             1    0   \n",
            "1  -5420'   union all select 2508 2508 2508 2508 ...             1    0   \n",
            "2  -2857%'       union all select 7167 7167 7167 ...             1    0   \n",
            "3  ssssssssssssssssssssssssssssssssssssssssssssss...             1    0   \n",
            "4  j95utpnafk32s451w4kxzhahkqzs98irp97aesd5n68axy...             1    0   \n",
            "\n",
            "   Normal                                     Payload_Tokens  \\\n",
            "0       0  [ghjv9ef1y69cd6i59ihp6u3rsihkkx4z40nkyoqsdam1i...   \n",
            "1       0  [-5420, ', union, all, select, 2508, 2508, 250...   \n",
            "2       0  [-2857, %, ', union, all, select, 7167, 7167, ...   \n",
            "3       0  [sssssssssssssssssssssssssssssssssssssssssssss...   \n",
            "4       0  [j95utpnafk32s451w4kxzhahkqzs98irp97aesd5n68ax...   \n",
            "\n",
            "                                     Payload_Cleaned  Payload_Length  Label  \\\n",
            "0  ghjv9ef1y69cd6i59ihp6u3rsihkkx4z40nkyoqsdam1iq...              18      0   \n",
            "1  -5420 ' union select 2508 2508 2508 2508 2508 ...              11      0   \n",
            "2  -2857 % ' union select 7167 7167 7167 7167 716...              20      0   \n",
            "3  ssssssssssssssssssssssssssssssssssssssssssssss...              22      0   \n",
            "4  j95utpnafk32s451w4kxzhahkqzs98irp97aesd5n68axy...              33      0   \n",
            "\n",
            "   y_pred_svm  y_pred_rf  y_pred_lr  y_pred_gb  \n",
            "0         2.0        2.0        2.0        2.0  \n",
            "1         0.0        0.0        0.0        2.0  \n",
            "2         0.0        0.0        0.0        0.0  \n",
            "3         2.0        2.0        2.0        2.0  \n",
            "4         0.0        0.0        0.0        0.0  \n"
          ]
        }
      ]
    },
    {
      "cell_type": "markdown",
      "source": [
        "### Multi-layer Perceptron (MLP) Neural Network"
      ],
      "metadata": {
        "id": "pdvd6lljuO1F"
      }
    },
    {
      "cell_type": "code",
      "source": [
        "from sklearn.neural_network import MLPClassifier\n",
        "\n",
        "# Train Multi-layer Perceptron (MLP) Neural Network Classifier\n",
        "nn_model = MLPClassifier(random_state=42, max_iter=1000)\n",
        "nn_model.fit(X_train, y_train)\n",
        "\n",
        "# Make Predictions\n",
        "y_pred_nn = nn_model.predict(X_test)"
      ],
      "metadata": {
        "id": "s28LiM1Crmxl"
      },
      "execution_count": null,
      "outputs": []
    },
    {
      "cell_type": "code",
      "source": [
        "#### Gets the original indices of the test set from before the TF-IDF transformation\n",
        "# else the X-text and y_pred will have uneven no of rows\n",
        "test_indices = y_test.reset_index().index  # y_test still has the original indices\n",
        "\n",
        "# Ensures that predictions are added to the right rows in df3 using the original indices\n",
        "df3.loc[test_indices, 'y_pred_nn'] = y_pred_nn\n",
        "\n",
        "# Verify by printing the first few rows of df3\n",
        "print(df3.head())"
      ],
      "metadata": {
        "colab": {
          "base_uri": "https://localhost:8080/"
        },
        "id": "zzMY6OadMbiJ",
        "outputId": "26cd6994-2aca-44dd-a18d-77351c738006"
      },
      "execution_count": null,
      "outputs": [
        {
          "output_type": "stream",
          "name": "stdout",
          "text": [
            "                                             Payload  SQLInjection  XSS  \\\n",
            "0  ghjv9ef1y69cd6i59ihp6u3rsihkkx4z40nkyoqsdam1iq...             1    0   \n",
            "1  -5420'   union all select 2508 2508 2508 2508 ...             1    0   \n",
            "2  -2857%'       union all select 7167 7167 7167 ...             1    0   \n",
            "3  ssssssssssssssssssssssssssssssssssssssssssssss...             1    0   \n",
            "4  j95utpnafk32s451w4kxzhahkqzs98irp97aesd5n68axy...             1    0   \n",
            "\n",
            "   Normal                                     Payload_Tokens  \\\n",
            "0       0  [ghjv9ef1y69cd6i59ihp6u3rsihkkx4z40nkyoqsdam1i...   \n",
            "1       0  [-5420, ', union, all, select, 2508, 2508, 250...   \n",
            "2       0  [-2857, %, ', union, all, select, 7167, 7167, ...   \n",
            "3       0  [sssssssssssssssssssssssssssssssssssssssssssss...   \n",
            "4       0  [j95utpnafk32s451w4kxzhahkqzs98irp97aesd5n68ax...   \n",
            "\n",
            "                                     Payload_Cleaned  Payload_Length  Label  \\\n",
            "0  ghjv9ef1y69cd6i59ihp6u3rsihkkx4z40nkyoqsdam1iq...              18      0   \n",
            "1  -5420 ' union select 2508 2508 2508 2508 2508 ...              11      0   \n",
            "2  -2857 % ' union select 7167 7167 7167 7167 716...              20      0   \n",
            "3  ssssssssssssssssssssssssssssssssssssssssssssss...              22      0   \n",
            "4  j95utpnafk32s451w4kxzhahkqzs98irp97aesd5n68axy...              33      0   \n",
            "\n",
            "   y_pred_svm  y_pred_rf  y_pred_lr  y_pred_gb  y_pred_nn  \n",
            "0         2.0        2.0        2.0        2.0        2.0  \n",
            "1         0.0        0.0        0.0        2.0        0.0  \n",
            "2         0.0        0.0        0.0        0.0        0.0  \n",
            "3         2.0        2.0        2.0        2.0        2.0  \n",
            "4         0.0        0.0        0.0        0.0        0.0  \n"
          ]
        }
      ]
    },
    {
      "cell_type": "markdown",
      "source": [
        "### Extra Trees (Extremely Randomized Trees)"
      ],
      "metadata": {
        "id": "YHNrRonb0ZHF"
      }
    },
    {
      "cell_type": "code",
      "source": [
        "from sklearn.ensemble import ExtraTreesClassifier\n",
        "\n",
        "# Train ExtraTrees Classifier\n",
        "et_model = ExtraTreesClassifier(random_state=42)\n",
        "et_model.fit(X_train, y_train)\n",
        "\n",
        "# Make Predictions\n",
        "y_pred_et = et_model.predict(X_test)"
      ],
      "metadata": {
        "id": "PSWpLbJw0YQR"
      },
      "execution_count": null,
      "outputs": []
    },
    {
      "cell_type": "markdown",
      "source": [
        "#### Mapping Predictions to DataFrame"
      ],
      "metadata": {
        "id": "iRTcSvSp2igq"
      }
    },
    {
      "cell_type": "code",
      "source": [
        "#### Gets the original indices of the test set from before the TF-IDF transformation\n",
        "# else the X-text and y_pred will have uneven no of rows\n",
        "test_indices = y_test.reset_index().index  # y_test still has the original indices\n",
        "\n",
        "# Ensures that predictions are added to the right rows in df3 using the original indices\n",
        "df3.loc[test_indices, 'y_pred_et'] = y_pred_et\n",
        "\n",
        "# Verify by printing the first few rows of df3\n",
        "print(df3.head())"
      ],
      "metadata": {
        "colab": {
          "base_uri": "https://localhost:8080/"
        },
        "id": "NlUWKlFiNJ9i",
        "outputId": "d85b1446-46ae-482a-f827-7740f39f425a"
      },
      "execution_count": null,
      "outputs": [
        {
          "output_type": "stream",
          "name": "stdout",
          "text": [
            "                                             Payload  SQLInjection  XSS  \\\n",
            "0  ghjv9ef1y69cd6i59ihp6u3rsihkkx4z40nkyoqsdam1iq...             1    0   \n",
            "1  -5420'   union all select 2508 2508 2508 2508 ...             1    0   \n",
            "2  -2857%'       union all select 7167 7167 7167 ...             1    0   \n",
            "3  ssssssssssssssssssssssssssssssssssssssssssssss...             1    0   \n",
            "4  j95utpnafk32s451w4kxzhahkqzs98irp97aesd5n68axy...             1    0   \n",
            "\n",
            "   Normal                                     Payload_Tokens  \\\n",
            "0       0  [ghjv9ef1y69cd6i59ihp6u3rsihkkx4z40nkyoqsdam1i...   \n",
            "1       0  [-5420, ', union, all, select, 2508, 2508, 250...   \n",
            "2       0  [-2857, %, ', union, all, select, 7167, 7167, ...   \n",
            "3       0  [sssssssssssssssssssssssssssssssssssssssssssss...   \n",
            "4       0  [j95utpnafk32s451w4kxzhahkqzs98irp97aesd5n68ax...   \n",
            "\n",
            "                                     Payload_Cleaned  Payload_Length  Label  \\\n",
            "0  ghjv9ef1y69cd6i59ihp6u3rsihkkx4z40nkyoqsdam1iq...              18      0   \n",
            "1  -5420 ' union select 2508 2508 2508 2508 2508 ...              11      0   \n",
            "2  -2857 % ' union select 7167 7167 7167 7167 716...              20      0   \n",
            "3  ssssssssssssssssssssssssssssssssssssssssssssss...              22      0   \n",
            "4  j95utpnafk32s451w4kxzhahkqzs98irp97aesd5n68axy...              33      0   \n",
            "\n",
            "   y_pred_svm  y_pred_rf  y_pred_lr  y_pred_gb  y_pred_nn  y_pred_et  \n",
            "0         2.0        2.0        2.0        2.0        2.0        2.0  \n",
            "1         0.0        0.0        0.0        2.0        0.0        0.0  \n",
            "2         0.0        0.0        0.0        0.0        0.0        0.0  \n",
            "3         2.0        2.0        2.0        2.0        2.0        2.0  \n",
            "4         0.0        0.0        0.0        0.0        0.0        0.0  \n"
          ]
        }
      ]
    }
  ]
}