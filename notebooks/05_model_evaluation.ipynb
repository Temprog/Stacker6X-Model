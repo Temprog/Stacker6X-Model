{
  "nbformat": 4,
  "nbformat_minor": 0,
  "metadata": {
    "colab": {
      "provenance": [],
      "collapsed_sections": [
        "M_hbqY-BkAcC"
      ]
    },
    "kernelspec": {
      "name": "python3",
      "display_name": "Python 3"
    },
    "language_info": {
      "name": "python"
    }
  },
  "cells": [
    {
      "cell_type": "markdown",
      "source": [
        "# Model Evaluation\n"
      ],
      "metadata": {
        "id": "ZbyKXpw_Bx8m"
      }
    },
    {
      "cell_type": "markdown",
      "source": [
        "## Imports & Setup\n",
        "This notebook imports all necessary libraries and modules using `from utils.imports import *`, which centralizes all dependencies required for model evaluation. See `utils/imports.py` for full details.\n"
      ],
      "metadata": {
        "id": "39FOVoIGB4sY"
      }
    },
    {
      "cell_type": "code",
      "execution_count": null,
      "metadata": {
        "id": "YCVms8a2-j6y"
      },
      "outputs": [],
      "source": [
        "# Imports from utils/imports.py\n",
        "from utils.imports import pd, np, accuracy_score, classification_report, confusion_matrix, plt, sns"
      ]
    },
    {
      "cell_type": "markdown",
      "source": [],
      "metadata": {
        "id": "R0wAb4I4BUOB"
      }
    },
    {
      "cell_type": "markdown",
      "source": [
        "### SVM"
      ],
      "metadata": {
        "id": "_C6H1d9H_zOu"
      }
    },
    {
      "cell_type": "code",
      "source": [
        "# This step is to store the prediction results alongside the original data for subsequent evaluation metrics and visualizations.\n",
        "# Gets the original indices of the test set from before the TF-IDF transformation else the X-text and y_pred will have uneven no of rows\n",
        "test_indices = y_test.reset_index().index  # y_test still has the original indices\n",
        "\n",
        "# Ensures that predictions are added to the right rows in df3 using the original indices\n",
        "df3.loc[test_indices, 'y_pred_svm'] = y_pred_svm\n",
        "\n",
        "# Verify by printing the first few rows of df3\n",
        "print(df3.head())"
      ],
      "metadata": {
        "colab": {
          "base_uri": "https://localhost:8080/"
        },
        "id": "abU2pk8-Hle1",
        "outputId": "92fb48ad-59de-4198-ee21-211d73fa8256"
      },
      "execution_count": null,
      "outputs": [
        {
          "output_type": "stream",
          "name": "stdout",
          "text": [
            "                                             Payload  SQLInjection  XSS  \\\n",
            "0  ghjv9ef1y69cd6i59ihp6u3rsihkkx4z40nkyoqsdam1iq...             1    0   \n",
            "1  -5420'   union all select 2508 2508 2508 2508 ...             1    0   \n",
            "2  -2857%'       union all select 7167 7167 7167 ...             1    0   \n",
            "3  ssssssssssssssssssssssssssssssssssssssssssssss...             1    0   \n",
            "4  j95utpnafk32s451w4kxzhahkqzs98irp97aesd5n68axy...             1    0   \n",
            "\n",
            "   Normal                                     Payload_Tokens  \\\n",
            "0       0  [ghjv9ef1y69cd6i59ihp6u3rsihkkx4z40nkyoqsdam1i...   \n",
            "1       0  [-5420, ', union, all, select, 2508, 2508, 250...   \n",
            "2       0  [-2857, %, ', union, all, select, 7167, 7167, ...   \n",
            "3       0  [sssssssssssssssssssssssssssssssssssssssssssss...   \n",
            "4       0  [j95utpnafk32s451w4kxzhahkqzs98irp97aesd5n68ax...   \n",
            "\n",
            "                                     Payload_Cleaned  Payload_Length  Label  \\\n",
            "0  ghjv9ef1y69cd6i59ihp6u3rsihkkx4z40nkyoqsdam1iq...              18      0   \n",
            "1  -5420 ' union select 2508 2508 2508 2508 2508 ...              11      0   \n",
            "2  -2857 % ' union select 7167 7167 7167 7167 716...              20      0   \n",
            "3  ssssssssssssssssssssssssssssssssssssssssssssss...              22      0   \n",
            "4  j95utpnafk32s451w4kxzhahkqzs98irp97aesd5n68axy...              33      0   \n",
            "\n",
            "   y_pred_svm  \n",
            "0         2.0  \n",
            "1         0.0  \n",
            "2         0.0  \n",
            "3         2.0  \n",
            "4         0.0  \n"
          ]
        }
      ]
    },
    {
      "cell_type": "code",
      "source": [
        "# Evaluate the Model\n",
        "svm_accuracy = accuracy_score(y_test, y_pred_svm)\n",
        "report = classification_report(y_test, y_pred_svm)\n",
        "conf_matrix = confusion_matrix(y_test, y_pred_svm)\n",
        "\n",
        "# Adding the accuracy to the dictionary:\n",
        "model_accuracy['Support vector machine'] = np.around(svm_accuracy*100, 2)\n",
        "\n",
        "print(f\"SVM Accuracy: {svm_accuracy}\")\n",
        "print('Classification Report:')\n",
        "print(report)\n",
        "print('Confusion Matrix:')\n",
        "print(conf_matrix)\n",
        "\n"
      ],
      "metadata": {
        "id": "clxlC8GIwdvR",
        "colab": {
          "base_uri": "https://localhost:8080/"
        },
        "outputId": "ecc99012-f3ed-418a-a54d-ae88ae8f6630"
      },
      "execution_count": null,
      "outputs": [
        {
          "output_type": "stream",
          "name": "stdout",
          "text": [
            "SVM Accuracy: 0.9738745980707395\n",
            "Classification Report:\n",
            "              precision    recall  f1-score   support\n",
            "\n",
            "           0       0.97      0.95      0.96       847\n",
            "           1       1.00      1.00      1.00       836\n",
            "           2       0.95      0.97      0.96       805\n",
            "\n",
            "    accuracy                           0.97      2488\n",
            "   macro avg       0.97      0.97      0.97      2488\n",
            "weighted avg       0.97      0.97      0.97      2488\n",
            "\n",
            "Confusion Matrix:\n",
            "[[806   0  41]\n",
            " [  1 834   1]\n",
            " [ 21   1 783]]\n"
          ]
        }
      ]
    },
    {
      "cell_type": "code",
      "source": [
        "# Check the number of rows in X_test\n",
        "num_rows_X_test = X_test.shape[0]\n",
        "print(f\"Number of rows in X_test: {num_rows_X_test}\")\n"
      ],
      "metadata": {
        "colab": {
          "base_uri": "https://localhost:8080/"
        },
        "id": "Fq1RRRp0wNdd",
        "outputId": "55aeec1d-c20c-4bc9-94c5-711c118af5ac"
      },
      "execution_count": null,
      "outputs": [
        {
          "output_type": "stream",
          "name": "stdout",
          "text": [
            "Number of rows in X_test: 2488\n"
          ]
        }
      ]
    },
    {
      "cell_type": "code",
      "source": [
        "# Compute the confusion matrix\n",
        "conf_matrix = confusion_matrix(y_test, y_pred_svm)\n",
        "\n",
        "# Plot the confusion matrix using seaborn\n",
        "plt.figure(figsize=(8, 6))\n",
        "sns.heatmap(conf_matrix, annot=True, fmt='d', cmap='Blues',\n",
        "            xticklabels=['SQLInjection', 'XSS', 'Normal'],\n",
        "            yticklabels=['SQLInjection', 'XSS', 'Normal'])\n",
        "plt.xlabel('Predicted Labels')\n",
        "plt.ylabel('True Labels')\n",
        "plt.title('Confusion Matrix for SVM')\n",
        "plt.show()"
      ],
      "metadata": {
        "collapsed": true,
        "id": "lTfyMqLUyHxZ",
        "colab": {
          "base_uri": "https://localhost:8080/",
          "height": 564
        },
        "outputId": "6ef96f6b-9876-41bb-a119-4b439e74497c"
      },
      "execution_count": null,
      "outputs": [
        {
          "output_type": "display_data",
          "data": {
            "text/plain": [
              "<Figure size 800x600 with 2 Axes>"
            ],
            "image/png": "[encoded data removed]"
          },
          "metadata": {}
        }
      ]
    },
    {
      "cell_type": "markdown",
      "source": [
        "### Random Forest"
      ],
      "metadata": {
        "id": "UacN_7KyAEc3"
      }
    },
    {
      "cell_type": "code",
      "source": [
        "#### Gets the original indices of the test set from before the TF-IDF transformation\n",
        "# else the X-text and y_pred will have uneven no of rows\n",
        "test_indices = y_test.reset_index().index  # y_test still has the original indices\n",
        "\n",
        "# Ensures that predictions are added to the right rows in df3 using the original indices\n",
        "df3.loc[test_indices, 'y_pred_rf'] = y_pred_rf\n",
        "\n",
        "# Verify by printing the first few rows of df3\n",
        "print(df3.head())"
      ],
      "metadata": {
        "colab": {
          "base_uri": "https://localhost:8080/"
        },
        "id": "0ZvcVdacFjb9",
        "outputId": "a280695f-2bc7-45f1-cb12-37d022577d7a"
      },
      "execution_count": null,
      "outputs": [
        {
          "output_type": "stream",
          "name": "stdout",
          "text": [
            "                                             Payload  SQLInjection  XSS  \\\n",
            "0  ghjv9ef1y69cd6i59ihp6u3rsihkkx4z40nkyoqsdam1iq...             1    0   \n",
            "1  -5420'   union all select 2508 2508 2508 2508 ...             1    0   \n",
            "2  -2857%'       union all select 7167 7167 7167 ...             1    0   \n",
            "3  ssssssssssssssssssssssssssssssssssssssssssssss...             1    0   \n",
            "4  j95utpnafk32s451w4kxzhahkqzs98irp97aesd5n68axy...             1    0   \n",
            "\n",
            "   Normal                                     Payload_Tokens  \\\n",
            "0       0  [ghjv9ef1y69cd6i59ihp6u3rsihkkx4z40nkyoqsdam1i...   \n",
            "1       0  [-5420, ', union, all, select, 2508, 2508, 250...   \n",
            "2       0  [-2857, %, ', union, all, select, 7167, 7167, ...   \n",
            "3       0  [sssssssssssssssssssssssssssssssssssssssssssss...   \n",
            "4       0  [j95utpnafk32s451w4kxzhahkqzs98irp97aesd5n68ax...   \n",
            "\n",
            "                                     Payload_Cleaned  Payload_Length  Label  \\\n",
            "0  ghjv9ef1y69cd6i59ihp6u3rsihkkx4z40nkyoqsdam1iq...              18      0   \n",
            "1  -5420 ' union select 2508 2508 2508 2508 2508 ...              11      0   \n",
            "2  -2857 % ' union select 7167 7167 7167 7167 716...              20      0   \n",
            "3  ssssssssssssssssssssssssssssssssssssssssssssss...              22      0   \n",
            "4  j95utpnafk32s451w4kxzhahkqzs98irp97aesd5n68axy...              33      0   \n",
            "\n",
            "   y_pred_svm  y_pred_rf  \n",
            "0         2.0        2.0  \n",
            "1         0.0        0.0  \n",
            "2         0.0        0.0  \n",
            "3         2.0        2.0  \n",
            "4         0.0        0.0  \n"
          ]
        }
      ]
    },
    {
      "cell_type": "code",
      "source": [
        "# Evaluate the Model\n",
        "rf_accuracy = accuracy_score(y_test, y_pred_rf)     # comparing y_pred_rf (ie predicted label/target) with the y_test actual data\n",
        "report = classification_report(y_test, y_pred_rf)\n",
        "conf_matrix = confusion_matrix(y_test, y_pred_rf)\n",
        "\n",
        "# Adding the accuracy to the dictionary:\n",
        "model_accuracy['Random Forest'] = np.around(rf_accuracy*100, 2)\n",
        "\n",
        "print(f\"RF Accuracy: {rf_accuracy:}\")\n",
        "print('Classification Report:')\n",
        "print(report)\n",
        "print('Confusion Matrix:')\n",
        "print(conf_matrix)"
      ],
      "metadata": {
        "id": "mxcku7anGpLQ",
        "colab": {
          "base_uri": "https://localhost:8080/"
        },
        "outputId": "e6c3f3b3-8888-4155-d4bd-5b12be09af8a"
      },
      "execution_count": null,
      "outputs": [
        {
          "output_type": "stream",
          "name": "stdout",
          "text": [
            "RF Accuracy: 0.9738745980707395\n",
            "Classification Report:\n",
            "              precision    recall  f1-score   support\n",
            "\n",
            "           0       0.97      0.96      0.96       847\n",
            "           1       1.00      1.00      1.00       836\n",
            "           2       0.96      0.96      0.96       805\n",
            "\n",
            "    accuracy                           0.97      2488\n",
            "   macro avg       0.97      0.97      0.97      2488\n",
            "weighted avg       0.97      0.97      0.97      2488\n",
            "\n",
            "Confusion Matrix:\n",
            "[[811   0  36]\n",
            " [  0 836   0]\n",
            " [ 28   1 776]]\n"
          ]
        }
      ]
    },
    {
      "cell_type": "markdown",
      "source": [
        "### Logistic Regression"
      ],
      "metadata": {
        "id": "mH17N88zDV1T"
      }
    },
    {
      "cell_type": "code",
      "source": [
        "# Gets the original indices of the test set from before the TF-IDF transformation\n",
        "# else the X-text and y_pred will have uneven no of rows\n",
        "test_indices = y_test.reset_index().index  # y_test still has the original indices\n",
        "\n",
        "# Ensures that predictions are added to the right rows in df3 using the original indices\n",
        "df3.loc[test_indices, 'y_pred_lr'] = y_pred_lr\n",
        "\n",
        "# Verify by printing the first few rows of df3\n",
        "print(df3.head())"
      ],
      "metadata": {
        "colab": {
          "base_uri": "https://localhost:8080/"
        },
        "id": "HOWfd9zuG3wc",
        "outputId": "b888d157-6b3a-4ef9-8bbf-1db5b9905e75"
      },
      "execution_count": null,
      "outputs": [
        {
          "output_type": "stream",
          "name": "stdout",
          "text": [
            "                                             Payload  SQLInjection  XSS  \\\n",
            "0  ghjv9ef1y69cd6i59ihp6u3rsihkkx4z40nkyoqsdam1iq...             1    0   \n",
            "1  -5420'   union all select 2508 2508 2508 2508 ...             1    0   \n",
            "2  -2857%'       union all select 7167 7167 7167 ...             1    0   \n",
            "3  ssssssssssssssssssssssssssssssssssssssssssssss...             1    0   \n",
            "4  j95utpnafk32s451w4kxzhahkqzs98irp97aesd5n68axy...             1    0   \n",
            "\n",
            "   Normal                                     Payload_Tokens  \\\n",
            "0       0  [ghjv9ef1y69cd6i59ihp6u3rsihkkx4z40nkyoqsdam1i...   \n",
            "1       0  [-5420, ', union, all, select, 2508, 2508, 250...   \n",
            "2       0  [-2857, %, ', union, all, select, 7167, 7167, ...   \n",
            "3       0  [sssssssssssssssssssssssssssssssssssssssssssss...   \n",
            "4       0  [j95utpnafk32s451w4kxzhahkqzs98irp97aesd5n68ax...   \n",
            "\n",
            "                                     Payload_Cleaned  Payload_Length  Label  \\\n",
            "0  ghjv9ef1y69cd6i59ihp6u3rsihkkx4z40nkyoqsdam1iq...              18      0   \n",
            "1  -5420 ' union select 2508 2508 2508 2508 2508 ...              11      0   \n",
            "2  -2857 % ' union select 7167 7167 7167 7167 716...              20      0   \n",
            "3  ssssssssssssssssssssssssssssssssssssssssssssss...              22      0   \n",
            "4  j95utpnafk32s451w4kxzhahkqzs98irp97aesd5n68axy...              33      0   \n",
            "\n",
            "   y_pred_svm  y_pred_rf  y_pred_lr  \n",
            "0         2.0        2.0        2.0  \n",
            "1         0.0        0.0        0.0  \n",
            "2         0.0        0.0        0.0  \n",
            "3         2.0        2.0        2.0  \n",
            "4         0.0        0.0        0.0  \n"
          ]
        }
      ]
    },
    {
      "cell_type": "code",
      "source": [
        "# Evaluate the Model\n",
        "lr_accuracy = accuracy_score(y_test, y_pred_lr)\n",
        "report = classification_report(y_test, y_pred_lr)\n",
        "conf_matrix = confusion_matrix(y_test, y_pred_lr)\n",
        "\n",
        "# Adding the accuracy to the dictionary:\n",
        "model_accuracy['Logistic Regression'] = np.around(lr_accuracy*100, 2)\n",
        "\n",
        "print(f\"Logistic Regression Accuracy: {lr_accuracy:}\")\n",
        "print(\"Classification Report:\", classification_report(y_test, y_pred_lr))\n",
        "print(report)\n",
        "print('Confusion Matrix:')\n",
        "print(conf_matrix)"
      ],
      "metadata": {
        "id": "TSXF9F8pIwK5",
        "colab": {
          "base_uri": "https://localhost:8080/"
        },
        "outputId": "c03455f3-ec65-4156-cb63-51bd131160b9"
      },
      "execution_count": null,
      "outputs": [
        {
          "output_type": "stream",
          "name": "stdout",
          "text": [
            "Logistic Regression Accuracy: 0.9738745980707395\n",
            "Classification Report:               precision    recall  f1-score   support\n",
            "\n",
            "           0       0.99      0.94      0.96       847\n",
            "           1       1.00      1.00      1.00       836\n",
            "           2       0.94      0.99      0.96       805\n",
            "\n",
            "    accuracy                           0.97      2488\n",
            "   macro avg       0.97      0.97      0.97      2488\n",
            "weighted avg       0.97      0.97      0.97      2488\n",
            "\n",
            "              precision    recall  f1-score   support\n",
            "\n",
            "           0       0.99      0.94      0.96       847\n",
            "           1       1.00      1.00      1.00       836\n",
            "           2       0.94      0.99      0.96       805\n",
            "\n",
            "    accuracy                           0.97      2488\n",
            "   macro avg       0.97      0.97      0.97      2488\n",
            "weighted avg       0.97      0.97      0.97      2488\n",
            "\n",
            "Confusion Matrix:\n",
            "[[796   1  50]\n",
            " [  1 834   1]\n",
            " [ 11   1 793]]\n"
          ]
        }
      ]
    },
    {
      "cell_type": "markdown",
      "source": [
        "### Gradient Boosting"
      ],
      "metadata": {
        "id": "7FXHglzQeuFS"
      }
    },
    {
      "cell_type": "code",
      "source": [
        "# Gets the original indices of the test set from before the TF-IDF transformation\n",
        "# else the X-text and y_pred will have uneven no of rows\n",
        "test_indices = y_test.reset_index().index  # y_test still has the original indices\n",
        "\n",
        "# Ensures that predictions are added to the right rows in df3 using the original indices\n",
        "df3.loc[test_indices, 'y_pred_gb'] = y_pred_gb\n",
        "\n",
        "# Verify by printing the first few rows of df3\n",
        "print(df3.head())"
      ],
      "metadata": {
        "colab": {
          "base_uri": "https://localhost:8080/"
        },
        "id": "dqbfXXzdHImJ",
        "outputId": "7c561cf8-4051-4b23-ab7e-fac13206bd5e"
      },
      "execution_count": null,
      "outputs": [
        {
          "output_type": "stream",
          "name": "stdout",
          "text": [
            "                                             Payload  SQLInjection  XSS  \\\n",
            "0  ghjv9ef1y69cd6i59ihp6u3rsihkkx4z40nkyoqsdam1iq...             1    0   \n",
            "1  -5420'   union all select 2508 2508 2508 2508 ...             1    0   \n",
            "2  -2857%'       union all select 7167 7167 7167 ...             1    0   \n",
            "3  ssssssssssssssssssssssssssssssssssssssssssssss...             1    0   \n",
            "4  j95utpnafk32s451w4kxzhahkqzs98irp97aesd5n68axy...             1    0   \n",
            "\n",
            "   Normal                                     Payload_Tokens  \\\n",
            "0       0  [ghjv9ef1y69cd6i59ihp6u3rsihkkx4z40nkyoqsdam1i...   \n",
            "1       0  [-5420, ', union, all, select, 2508, 2508, 250...   \n",
            "2       0  [-2857, %, ', union, all, select, 7167, 7167, ...   \n",
            "3       0  [sssssssssssssssssssssssssssssssssssssssssssss...   \n",
            "4       0  [j95utpnafk32s451w4kxzhahkqzs98irp97aesd5n68ax...   \n",
            "\n",
            "                                     Payload_Cleaned  Payload_Length  Label  \\\n",
            "0  ghjv9ef1y69cd6i59ihp6u3rsihkkx4z40nkyoqsdam1iq...              18      0   \n",
            "1  -5420 ' union select 2508 2508 2508 2508 2508 ...              11      0   \n",
            "2  -2857 % ' union select 7167 7167 7167 7167 716...              20      0   \n",
            "3  ssssssssssssssssssssssssssssssssssssssssssssss...              22      0   \n",
            "4  j95utpnafk32s451w4kxzhahkqzs98irp97aesd5n68axy...              33      0   \n",
            "\n",
            "   y_pred_svm  y_pred_rf  y_pred_lr  y_pred_gb  \n",
            "0         2.0        2.0        2.0        2.0  \n",
            "1         0.0        0.0        0.0        2.0  \n",
            "2         0.0        0.0        0.0        0.0  \n",
            "3         2.0        2.0        2.0        2.0  \n",
            "4         0.0        0.0        0.0        0.0  \n"
          ]
        }
      ]
    },
    {
      "cell_type": "code",
      "source": [
        "# Evaluate the Model\n",
        "gb_accuracy = accuracy_score(y_test, y_pred_gb)\n",
        "report = classification_report(y_test, y_pred_gb)\n",
        "conf_matrix = confusion_matrix(y_test, y_pred_gb)\n",
        "\n",
        "# Adding the accuracy to the dictionary:\n",
        "model_accuracy['Gradient Boosting'] = np.around(gb_accuracy*100, 2)\n",
        "\n",
        "print(f\"Gradient Boosting Accuracy: {gb_accuracy:}\")\n",
        "print(\"Classification Report:\", classification_report(y_test, y_pred_gb))\n",
        "print(report)\n",
        "print('Confusion Matrix:')\n",
        "print(conf_matrix)\n"
      ],
      "metadata": {
        "id": "nWZ0xRSYfDID",
        "colab": {
          "base_uri": "https://localhost:8080/"
        },
        "outputId": "bee7444e-1fcc-4be6-ec1e-dab99b4f2914"
      },
      "execution_count": null,
      "outputs": [
        {
          "output_type": "stream",
          "name": "stdout",
          "text": [
            "Gradient Boosting Accuracy: 0.952572347266881\n",
            "Classification Report:               precision    recall  f1-score   support\n",
            "\n",
            "           0       1.00      0.87      0.93       847\n",
            "           1       1.00      1.00      1.00       836\n",
            "           2       0.88      1.00      0.93       805\n",
            "\n",
            "    accuracy                           0.95      2488\n",
            "   macro avg       0.96      0.95      0.95      2488\n",
            "weighted avg       0.96      0.95      0.95      2488\n",
            "\n",
            "              precision    recall  f1-score   support\n",
            "\n",
            "           0       1.00      0.87      0.93       847\n",
            "           1       1.00      1.00      1.00       836\n",
            "           2       0.88      1.00      0.93       805\n",
            "\n",
            "    accuracy                           0.95      2488\n",
            "   macro avg       0.96      0.95      0.95      2488\n",
            "weighted avg       0.96      0.95      0.95      2488\n",
            "\n",
            "Confusion Matrix:\n",
            "[[734   1 112]\n",
            " [  0 834   2]\n",
            " [  1   2 802]]\n"
          ]
        }
      ]
    },
    {
      "cell_type": "markdown",
      "source": [
        "### Multi-layer Perceptron (MLP) Neural Network"
      ],
      "metadata": {
        "id": "pdvd6lljuO1F"
      }
    },
    {
      "cell_type": "code",
      "source": [
        "# Gets the original indices of the test set from before the TF-IDF transformation\n",
        "# else the X-text and y_pred will have uneven no of rows\n",
        "test_indices = y_test.reset_index().index  # y_test still has the original indices\n",
        "\n",
        "# Ensures that predictions are added to the right rows in df3 using the original indices\n",
        "df3.loc[test_indices, 'y_pred_nn'] = y_pred_nn\n",
        "\n",
        "# Verify by printing the first few rows of df3\n",
        "print(df3.head())"
      ],
      "metadata": {
        "colab": {
          "base_uri": "https://localhost:8080/"
        },
        "id": "zzMY6OadMbiJ",
        "outputId": "26cd6994-2aca-44dd-a18d-77351c738006"
      },
      "execution_count": null,
      "outputs": [
        {
          "output_type": "stream",
          "name": "stdout",
          "text": [
            "                                             Payload  SQLInjection  XSS  \\\n",
            "0  ghjv9ef1y69cd6i59ihp6u3rsihkkx4z40nkyoqsdam1iq...             1    0   \n",
            "1  -5420'   union all select 2508 2508 2508 2508 ...             1    0   \n",
            "2  -2857%'       union all select 7167 7167 7167 ...             1    0   \n",
            "3  ssssssssssssssssssssssssssssssssssssssssssssss...             1    0   \n",
            "4  j95utpnafk32s451w4kxzhahkqzs98irp97aesd5n68axy...             1    0   \n",
            "\n",
            "   Normal                                     Payload_Tokens  \\\n",
            "0       0  [ghjv9ef1y69cd6i59ihp6u3rsihkkx4z40nkyoqsdam1i...   \n",
            "1       0  [-5420, ', union, all, select, 2508, 2508, 250...   \n",
            "2       0  [-2857, %, ', union, all, select, 7167, 7167, ...   \n",
            "3       0  [sssssssssssssssssssssssssssssssssssssssssssss...   \n",
            "4       0  [j95utpnafk32s451w4kxzhahkqzs98irp97aesd5n68ax...   \n",
            "\n",
            "                                     Payload_Cleaned  Payload_Length  Label  \\\n",
            "0  ghjv9ef1y69cd6i59ihp6u3rsihkkx4z40nkyoqsdam1iq...              18      0   \n",
            "1  -5420 ' union select 2508 2508 2508 2508 2508 ...              11      0   \n",
            "2  -2857 % ' union select 7167 7167 7167 7167 716...              20      0   \n",
            "3  ssssssssssssssssssssssssssssssssssssssssssssss...              22      0   \n",
            "4  j95utpnafk32s451w4kxzhahkqzs98irp97aesd5n68axy...              33      0   \n",
            "\n",
            "   y_pred_svm  y_pred_rf  y_pred_lr  y_pred_gb  y_pred_nn  \n",
            "0         2.0        2.0        2.0        2.0        2.0  \n",
            "1         0.0        0.0        0.0        2.0        0.0  \n",
            "2         0.0        0.0        0.0        0.0        0.0  \n",
            "3         2.0        2.0        2.0        2.0        2.0  \n",
            "4         0.0        0.0        0.0        0.0        0.0  \n"
          ]
        }
      ]
    },
    {
      "cell_type": "code",
      "source": [
        "# Evaluate the Model\n",
        "nn_accuracy = accuracy_score(y_test, y_pred_nn)\n",
        "report = classification_report(y_test, y_pred_nn)\n",
        "conf_matrix = confusion_matrix(y_test, y_pred_nn)\n",
        "\n",
        "# Adding the accuracy to the dictionary:\n",
        "model_accuracy['MLP Neural Network'] = np.around(nn_accuracy*100, 2)\n",
        "\n",
        "print(f\"MLP Neural Network Accuracy: {nn_accuracy:}\")\n",
        "print(\"MLP Neural Network:\", classification_report(y_test, y_pred_nn))\n",
        "print(report)\n",
        "print('Confusion Matrix:')\n",
        "print(conf_matrix)"
      ],
      "metadata": {
        "id": "ZZf5tj1-s-7m",
        "colab": {
          "base_uri": "https://localhost:8080/"
        },
        "outputId": "ca5b99c6-ab14-4572-8d57-342554f6f013"
      },
      "execution_count": null,
      "outputs": [
        {
          "output_type": "stream",
          "name": "stdout",
          "text": [
            "MLP Neural Network Accuracy: 0.9706591639871383\n",
            "MLP Neural Network:               precision    recall  f1-score   support\n",
            "\n",
            "           0       0.96      0.96      0.96       847\n",
            "           1       1.00      1.00      1.00       836\n",
            "           2       0.96      0.95      0.95       805\n",
            "\n",
            "    accuracy                           0.97      2488\n",
            "   macro avg       0.97      0.97      0.97      2488\n",
            "weighted avg       0.97      0.97      0.97      2488\n",
            "\n",
            "              precision    recall  f1-score   support\n",
            "\n",
            "           0       0.96      0.96      0.96       847\n",
            "           1       1.00      1.00      1.00       836\n",
            "           2       0.96      0.95      0.95       805\n",
            "\n",
            "    accuracy                           0.97      2488\n",
            "   macro avg       0.97      0.97      0.97      2488\n",
            "weighted avg       0.97      0.97      0.97      2488\n",
            "\n",
            "Confusion Matrix:\n",
            "[[813   0  34]\n",
            " [  0 836   0]\n",
            " [ 38   1 766]]\n"
          ]
        }
      ]
    },
    {
      "cell_type": "markdown",
      "source": [
        "### Extra Trees (Extremely Randomized Trees)"
      ],
      "metadata": {
        "id": "YHNrRonb0ZHF"
      }
    },
    {
      "cell_type": "code",
      "source": [
        "#### Gets the original indices of the test set from before the TF-IDF transformation\n",
        "# else the X-text and y_pred will have uneven no of rows\n",
        "test_indices = y_test.reset_index().index  # y_test still has the original indices\n",
        "\n",
        "# Ensures that predictions are added to the right rows in df3 using the original indices\n",
        "df3.loc[test_indices, 'y_pred_et'] = y_pred_et\n",
        "\n",
        "# Verify by printing the first few rows of df3\n",
        "print(df3.head())"
      ],
      "metadata": {
        "colab": {
          "base_uri": "https://localhost:8080/"
        },
        "id": "NlUWKlFiNJ9i",
        "outputId": "d85b1446-46ae-482a-f827-7740f39f425a"
      },
      "execution_count": null,
      "outputs": [
        {
          "output_type": "stream",
          "name": "stdout",
          "text": [
            "                                             Payload  SQLInjection  XSS  \\\n",
            "0  ghjv9ef1y69cd6i59ihp6u3rsihkkx4z40nkyoqsdam1iq...             1    0   \n",
            "1  -5420'   union all select 2508 2508 2508 2508 ...             1    0   \n",
            "2  -2857%'       union all select 7167 7167 7167 ...             1    0   \n",
            "3  ssssssssssssssssssssssssssssssssssssssssssssss...             1    0   \n",
            "4  j95utpnafk32s451w4kxzhahkqzs98irp97aesd5n68axy...             1    0   \n",
            "\n",
            "   Normal                                     Payload_Tokens  \\\n",
            "0       0  [ghjv9ef1y69cd6i59ihp6u3rsihkkx4z40nkyoqsdam1i...   \n",
            "1       0  [-5420, ', union, all, select, 2508, 2508, 250...   \n",
            "2       0  [-2857, %, ', union, all, select, 7167, 7167, ...   \n",
            "3       0  [sssssssssssssssssssssssssssssssssssssssssssss...   \n",
            "4       0  [j95utpnafk32s451w4kxzhahkqzs98irp97aesd5n68ax...   \n",
            "\n",
            "                                     Payload_Cleaned  Payload_Length  Label  \\\n",
            "0  ghjv9ef1y69cd6i59ihp6u3rsihkkx4z40nkyoqsdam1iq...              18      0   \n",
            "1  -5420 ' union select 2508 2508 2508 2508 2508 ...              11      0   \n",
            "2  -2857 % ' union select 7167 7167 7167 7167 716...              20      0   \n",
            "3  ssssssssssssssssssssssssssssssssssssssssssssss...              22      0   \n",
            "4  j95utpnafk32s451w4kxzhahkqzs98irp97aesd5n68axy...              33      0   \n",
            "\n",
            "   y_pred_svm  y_pred_rf  y_pred_lr  y_pred_gb  y_pred_nn  y_pred_et  \n",
            "0         2.0        2.0        2.0        2.0        2.0        2.0  \n",
            "1         0.0        0.0        0.0        2.0        0.0        0.0  \n",
            "2         0.0        0.0        0.0        0.0        0.0        0.0  \n",
            "3         2.0        2.0        2.0        2.0        2.0        2.0  \n",
            "4         0.0        0.0        0.0        0.0        0.0        0.0  \n"
          ]
        }
      ]
    },
    {
      "cell_type": "code",
      "source": [
        "# Evaluate the Model\n",
        "et_accuracy = accuracy_score(y_test, y_pred_et)\n",
        "# Adding the accuracy to the dictionary:\n",
        "model_accuracy['Extra Trees'] = np.around(et_accuracy*100, 2)\n",
        "\n",
        "print(f\"Extra Trees: {et_accuracy:}\")\n",
        "print(\"Extra Trees:\", classification_report(y_test, y_pred_et))\n",
        "print(report)\n",
        "print('Confusion Matrix:')\n",
        "print(conf_matrix)"
      ],
      "metadata": {
        "id": "_fr6sXze3r2K",
        "colab": {
          "base_uri": "https://localhost:8080/"
        },
        "outputId": "4e015df8-4023-45d7-c0da-ad53a55cd784"
      },
      "execution_count": null,
      "outputs": [
        {
          "output_type": "stream",
          "name": "stdout",
          "text": [
            "Extra Trees: 0.9742765273311897\n",
            "Extra Trees:               precision    recall  f1-score   support\n",
            "\n",
            "           0       0.98      0.95      0.96       847\n",
            "           1       1.00      1.00      1.00       836\n",
            "           2       0.95      0.98      0.96       805\n",
            "\n",
            "    accuracy                           0.97      2488\n",
            "   macro avg       0.97      0.97      0.97      2488\n",
            "weighted avg       0.97      0.97      0.97      2488\n",
            "\n",
            "              precision    recall  f1-score   support\n",
            "\n",
            "           0       0.96      0.96      0.96       847\n",
            "           1       1.00      1.00      1.00       836\n",
            "           2       0.96      0.95      0.95       805\n",
            "\n",
            "    accuracy                           0.97      2488\n",
            "   macro avg       0.97      0.97      0.97      2488\n",
            "weighted avg       0.97      0.97      0.97      2488\n",
            "\n",
            "Confusion Matrix:\n",
            "[[813   0  34]\n",
            " [  0 836   0]\n",
            " [ 38   1 766]]\n"
          ]
        }
      ]
    },
    {
      "cell_type": "code",
      "source": [
        "# Compute the confusion matrix\n",
        "conf_matrix = confusion_matrix(y_test, y_pred_et)\n",
        "\n",
        "# Step 2: Plot the confusion matrix using seaborn\n",
        "plt.figure(figsize=(8, 6))\n",
        "sns.heatmap(conf_matrix, annot=True, fmt='d', cmap='Blues',\n",
        "            xticklabels=['SQLInjection', 'XSS', 'Normal'],\n",
        "            yticklabels=['SQLInjection', 'XSS', 'Normal'])\n",
        "plt.xlabel('Predicted Labels')\n",
        "plt.ylabel('True Labels')\n",
        "plt.title('Confusion Matrix for ET')\n",
        "plt.show()"
      ],
      "metadata": {
        "id": "uqTR7vc64cOk",
        "colab": {
          "base_uri": "https://localhost:8080/",
          "height": 564
        },
        "outputId": "9fd29c12-5692-43fe-bca0-641e583fae44"
      },
      "execution_count": null,
      "outputs": [
        {
          "output_type": "display_data",
          "data": {
            "text/plain": [
              "<Figure size 800x600 with 2 Axes>"
            ],
            "image/png": "[encoded data removed]"
          },
          "metadata": {}
        }
      ]
    },
    {
      "cell_type": "markdown",
      "source": [
        "#### Model Accuracy Summary"
      ],
      "metadata": {
        "id": "uS7646qU28dq"
      }
    },
    {
      "cell_type": "code",
      "source": [
        "# To view the accuracy of the models together\n",
        "model_accuracy\n",
        "\n",
        "# To view the accuracy of the models together rounded up to whole numbers\n",
        "# print(\"Model Accuracies:\")\n",
        "# for model_name, accuracy in model_accuracy.items():\n",
        "# print(f\"{model_name}: {round(accuracy *1)}%\")"
      ],
      "metadata": {
        "colab": {
          "base_uri": "https://localhost:8080/"
        },
        "outputId": "a63df4bb-e16c-407f-8cd4-99e183d3c84a",
        "id": "2YwIpued3HIq"
      },
      "execution_count": null,
      "outputs": [
        {
          "output_type": "execute_result",
          "data": {
            "text/plain": [
              "{'Support vector machine': 97.39,\n",
              " 'Random Forest': 97.39,\n",
              " 'Logistic Regression': 97.39,\n",
              " 'Gradient Boosting': 95.26,\n",
              " 'MLP Neural Network': 97.07,\n",
              " 'Extra Trees': 97.43}"
            ]
          },
          "metadata": {},
          "execution_count": 77
        }
      ]
    },
    {
      "cell_type": "markdown",
      "source": [
        "### Stack Ensemble for Stacker6X"
      ],
      "metadata": {
        "id": "M_hbqY-BkAcC"
      }
    },
    {
      "cell_type": "code",
      "source": [
        "# Branding the model (modular ensemble model, with architecture - (ie with base models, meta-model) and why it was chosen.)\n",
        "# StackerX6 is a stacking ensemble that combines six powerful classifiers (SVM, Logistic Regression, Neural Networks, Random Forest, Extra Trees,\n",
        "# and Gradient Boosting) with a Random Forest as the meta-model. It is designed for robust performance on tabular data for classification tasks.\n",
        "# It is a fusion of six models into a stacking ensemble, leveraging the strength of diverse classifiers.\n",
        "\n",
        "class Stacker6X:\n",
        "    \"\"\"\n",
        "    Stacker6X: A custom stacking ensemble model.\n",
        "\n",
        "    Base Models:\n",
        "        - Logistic Regression (LR)\n",
        "        - Neural Networks (NN)\n",
        "        - Random Forest (RF)\n",
        "        - Extra Trees (ET)\n",
        "        - Gradient Boosting (GB)\n",
        "\n",
        "    Meta-Model:\n",
        "        - Reused SVM (97% Accuracy)\n",
        "    \"\"\"\n",
        "\n",
        "    def __init__(self, lr_model, nn_model, rf_model, et_model, gb_model, svm_model):\n",
        "        self.svm_model = None  # Exclude SVM as a base model\n",
        "        self.lr_model = lr_model\n",
        "        self.nn_model = nn_model\n",
        "        self.rf_model = rf_model\n",
        "        self.et_model = et_model\n",
        "        self.gb_model = gb_model\n",
        "        self.meta_model = svm_model  # Reuse the trained SVM as the meta-model\n",
        "\n",
        "    def fit(self, X_train, y_train):\n",
        "        \"\"\"\n",
        "        Trains the meta-model using predictions from the base models.\n",
        "        \"\"\"\n",
        "        # Generate probabilities from base models\n",
        "        lr_probs = self.lr_model.predict_proba(X_train)\n",
        "        nn_probs = self.nn_model.predict_proba(X_train)\n",
        "        rf_base_probs = self.rf_model.predict_proba(X_train)\n",
        "        et_probs = self.et_model.predict_proba(X_train)\n",
        "        gb_probs = self.gb_model.predict_proba(X_train)\n",
        "\n",
        "        # Combine probabilities into a single feature set\n",
        "        stacked_features_train = np.hstack([lr_probs, nn_probs, rf_base_probs, et_probs, gb_probs])\n",
        "\n",
        "        # Train the meta-model (already trained SVM is reused here)\n",
        "        self.meta_model.fit(stacked_features_train, y_train)\n",
        "\n",
        "    def predict(self, X_test):\n",
        "        \"\"\"\n",
        "        Makes predictions using the stacking ensemble.\n",
        "        \"\"\"\n",
        "        # Generate probabilities from base models\n",
        "        lr_probs = self.lr_model.predict_proba(X_test)\n",
        "        nn_probs = self.nn_model.predict_proba(X_test)\n",
        "        rf_base_probs = self.rf_model.predict_proba(X_test)\n",
        "        et_probs = self.et_model.predict_proba(X_test)\n",
        "        gb_probs = self.gb_model.predict_proba(X_test)\n",
        "\n",
        "        # Combine probabilities into a single feature set\n",
        "        stacked_features_test = np.hstack([lr_probs, nn_probs, rf_base_probs, et_probs, gb_probs])\n",
        "\n",
        "        # Predict with the meta-model (trained SVM)\n",
        "        return self.meta_model.predict(stacked_features_test)\n",
        "\n",
        "    def evaluate(self, X_test, y_test):\n",
        "        \"\"\"\n",
        "        Evaluates the model's performance.\n",
        "        \"\"\"\n",
        "        y_pred = self.predict(X_test)\n",
        "        accuracy = accuracy_score(y_test, y_pred)\n",
        "        report = classification_report(y_test, y_pred)\n",
        "        return accuracy, report"
      ],
      "metadata": {
        "id": "zpHqudorW9iP"
      },
      "execution_count": null,
      "outputs": []
    },
    {
      "cell_type": "markdown",
      "source": [
        "## Model Initialization and Training - Stacker6X"
      ],
      "metadata": {
        "id": "q6WjiOObXTg4"
      }
    },
    {
      "cell_type": "code",
      "source": [
        "# Example usage of Stacker6X (always initialize Stacker6X package to fusion_model here\n",
        "# Initializing Stacker6X with pre-trained models\n",
        "# Initialize the model with the pre-trained base models and meta-model\n",
        "fusion_model = Stacker6X(lr_model, nn_model, rf_model, et_model, gb_model, svm_model)\n",
        "\n",
        "# Train the model\n",
        "fusion_model.fit(X_train, y_train)"
      ],
      "metadata": {
        "id": "-_NEpEitXlJn"
      },
      "execution_count": null,
      "outputs": []
    },
    {
      "cell_type": "markdown",
      "source": [
        "## Stacker6X Model Evaluation and Output"
      ],
      "metadata": {
        "id": "o_Jh_LILexWJ"
      }
    },
    {
      "cell_type": "code",
      "source": [
        "# Evaluate the model\n",
        "accuracy, report = fusion_model.evaluate(X_test, y_test)\n",
        "\n",
        "# Output the results\n",
        "print(f\"Stacker6X Accuracy: {accuracy:}\")\n",
        "print(\"\\nClassification Report:\\n\", report)\n"
      ],
      "metadata": {
        "id": "E3D3XdeCNg6I",
        "colab": {
          "base_uri": "https://localhost:8080/"
        },
        "outputId": "91d0a81a-3745-4c30-cce9-e314f29c05b9"
      },
      "execution_count": null,
      "outputs": [
        {
          "output_type": "stream",
          "name": "stdout",
          "text": [
            "Stacker6X Accuracy: 0.97508038585209\n",
            "\n",
            "Classification Report:\n",
            "               precision    recall  f1-score   support\n",
            "\n",
            "           0       0.97      0.96      0.96       847\n",
            "           1       1.00      1.00      1.00       836\n",
            "           2       0.95      0.97      0.96       805\n",
            "\n",
            "    accuracy                           0.98      2488\n",
            "   macro avg       0.97      0.98      0.97      2488\n",
            "weighted avg       0.98      0.98      0.98      2488\n",
            "\n"
          ]
        }
      ]
    }
  ]
}